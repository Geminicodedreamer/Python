{
 "cells": [
  {
   "cell_type": "code",
   "execution_count": null,
   "metadata": {},
   "outputs": [],
   "source": [
    "import numpy as np\n",
    "import matplotlib.pyplot as plt\n",
    "\n",
    "class BernoulliBandit:\n",
    "    def __init__(self , K): # K 是拉杆个数\n",
    "        self.probs = np.random.uniform(size=K)  \n",
    "        self.best_idx = np.argmax(self.probs)           # 获奖概率最大的拉杆\n",
    "        self.best_prob = self.probs[self.best_idx]      # 最大获奖概率\n",
    "        self.K = K\n",
    "    \n",
    "    def step(self , K):\n",
    "        if np.random.rand() < self.probs[k]:        # 获奖返回1 未获奖返回0\n",
    "            return 1\n",
    "        else:\n",
    "            return 0\n",
    "\n",
    "np.random.seed(0)  # 一定要设置随机种子，才可以使老虎机不一样\n",
    "K = 10\n",
    "bandit_10_arm = BernoulliBandit(K)\n",
    "print(\"获奖概率最大的拉杆为%d号 获奖概率为%.4f\" % (bandit_10_arm.best_idx , bandit_10_arm.best_prob))"
   ]
  }
 ],
 "metadata": {
  "language_info": {
   "name": "python"
  },
  "orig_nbformat": 4
 },
 "nbformat": 4,
 "nbformat_minor": 2
}
